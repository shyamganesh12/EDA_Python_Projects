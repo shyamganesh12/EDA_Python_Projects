{
 "cells": [
  {
   "cell_type": "markdown",
   "id": "2276e3c4",
   "metadata": {},
   "source": [
    "# Bank Loan Analysis"
   ]
  },
  {
   "cell_type": "markdown",
   "id": "717b5686",
   "metadata": {},
   "source": [
    "\n",
    "# Introduction\n"
   ]
  },
  {
   "cell_type": "markdown",
   "id": "81b134b9",
   "metadata": {},
   "source": [
    "In financial services, accurate prediction of loan repayment outcomes holds paramount importance. This dataset contains a collection of key variables associated with loan applicants. These variables provide valuable insights into the applicant's financial profile, employment history, credit behavior, and loan-specific details.\n",
    "\n",
    "The goal is to train the best machine learning model to maximize the predictive capability of deeply understanding the past customer’s profile minimizing the risk of future loan defaults. By analyzing the relationships between borrower attributes and loan repayment outcomes, the model will enable lending institutions to make well-informed decisions that balance profitability and risk management.\n",
    "\n",
    "Understanding the Variables\n",
    "id: Unique ID of the loan application.\n",
    "\n",
    "grade: LC assigned loan grade.\n",
    "\n",
    "annual_inc: The self-reported annual income provided by the borrower during registration.\n",
    "\n",
    "short_emp: 1 when employed for 1 year or less.\n",
    "\n",
    "emp_length_num: Employment length in years. Possible values are - between 0 and 10 where 0 means less than one year and 10 means ten or more years.\n",
    "\n",
    "home_ownership: Type of home ownership.\n",
    "\n",
    "dti (Debt-To-Income Ratio): A ratio calculated using the borrower’s total monthly debt payments on the total debt obligations, excluding mortgage and the requested LC loan, divided by the borrower’s self-reported monthly income.\n",
    "\n",
    "purpose: A category provided by the borrower for the loan request.\n",
    "\n",
    "term: The number of payments on the loan. Values are in months and can be either 36 or 60.\n",
    "\n",
    "last_delinq_none: 1 when the borrower had at least one event of delinquency.\n",
    "\n",
    "last_major_derog_none: 1 borrower had at least 90 days of a bad rating.\n",
    "\n",
    "revol_util: Revolving line utilization rate, or the amount of credit the borrower is using relative to all available revolving credit.\n",
    "\n",
    "total_rec_late_fee: Late fees received to date.\n",
    "\n",
    "od_ratio: Overdraft ratio.\n",
    "\n",
    "bad_loan: 1 when a loan was not paid."
   ]
  },
  {
   "cell_type": "code",
   "execution_count": 12,
   "id": "90a21e5e",
   "metadata": {},
   "outputs": [],
   "source": [
    "# Import libraries. begin, let's import the necessary libraries that we'll be using throughout this notebook:\n",
    "\n",
    "# Data Manipulation Libraries\n",
    "import numpy as np \n",
    "import pandas as pd \n",
    "\n",
    "# Data Visualization Libraries\n",
    "import seaborn as sns\n",
    "import matplotlib.pyplot as plt"
   ]
  },
  {
   "cell_type": "code",
   "execution_count": 38,
   "id": "413d6438",
   "metadata": {},
   "outputs": [],
   "source": [
    "# Load tha data.\n",
    "\n",
    "df=pd.read_csv(\"D:\\Bank_loan_Analysis.csv\")"
   ]
  },
  {
   "cell_type": "code",
   "execution_count": 39,
   "id": "f04a1d73",
   "metadata": {},
   "outputs": [
    {
     "data": {
      "text/plain": [
       "(20000, 15)"
      ]
     },
     "execution_count": 39,
     "metadata": {},
     "output_type": "execute_result"
    }
   ],
   "source": [
    "# Seeing the shape of the data.\n",
    "df.shape"
   ]
  },
  {
   "cell_type": "code",
   "execution_count": 40,
   "id": "c4e2c2a5",
   "metadata": {},
   "outputs": [
    {
     "data": {
      "text/plain": [
       "0"
      ]
     },
     "execution_count": 40,
     "metadata": {},
     "output_type": "execute_result"
    }
   ],
   "source": [
    "# Seeing if there are dublicated.\n",
    "df.duplicated().sum()"
   ]
  },
  {
   "cell_type": "code",
   "execution_count": 41,
   "id": "ad111c72",
   "metadata": {},
   "outputs": [
    {
     "data": {
      "text/plain": [
       "id                           0\n",
       "grade                        0\n",
       "annual_inc                   0\n",
       "short_emp                    0\n",
       "emp_length_num               0\n",
       "home_ownership            1491\n",
       "dti                        154\n",
       "purpose                      0\n",
       "term                         0\n",
       "last_delinq_none             0\n",
       "last_major_derog_none    19426\n",
       "revol_util                   0\n",
       "total_rec_late_fee           0\n",
       "od_ratio                     0\n",
       "bad_loan                     0\n",
       "dtype: int64"
      ]
     },
     "execution_count": 41,
     "metadata": {},
     "output_type": "execute_result"
    }
   ],
   "source": [
    "# seeing if there are null values.\n",
    "df.isna().sum()"
   ]
  },
  {
   "cell_type": "code",
   "execution_count": 42,
   "id": "26320d7f",
   "metadata": {},
   "outputs": [],
   "source": [
    "# Drop last_major_derog_none and id.\n",
    "df.drop(['last_major_derog_none', 'id'], axis=1, inplace=True)"
   ]
  },
  {
   "cell_type": "code",
   "execution_count": 43,
   "id": "d6a11ceb",
   "metadata": {},
   "outputs": [],
   "source": [
    "# Drop the rows that have null values in home_ownership.\n",
    "df.dropna(subset = [\"home_ownership\", \"dti\"], inplace=True)"
   ]
  },
  {
   "cell_type": "code",
   "execution_count": 44,
   "id": "53f6f6e4",
   "metadata": {},
   "outputs": [
    {
     "data": {
      "text/plain": [
       "grade                 0\n",
       "annual_inc            0\n",
       "short_emp             0\n",
       "emp_length_num        0\n",
       "home_ownership        0\n",
       "dti                   0\n",
       "purpose               0\n",
       "term                  0\n",
       "last_delinq_none      0\n",
       "revol_util            0\n",
       "total_rec_late_fee    0\n",
       "od_ratio              0\n",
       "bad_loan              0\n",
       "dtype: int64"
      ]
     },
     "execution_count": 44,
     "metadata": {},
     "output_type": "execute_result"
    }
   ],
   "source": [
    "df.isna().sum()"
   ]
  },
  {
   "cell_type": "code",
   "execution_count": 45,
   "id": "f0e2ebad",
   "metadata": {},
   "outputs": [
    {
     "name": "stdout",
     "output_type": "stream",
     "text": [
      "<class 'pandas.core.frame.DataFrame'>\n",
      "Int64Index: 18371 entries, 0 to 19999\n",
      "Data columns (total 13 columns):\n",
      " #   Column              Non-Null Count  Dtype  \n",
      "---  ------              --------------  -----  \n",
      " 0   grade               18371 non-null  object \n",
      " 1   annual_inc          18371 non-null  float64\n",
      " 2   short_emp           18371 non-null  int64  \n",
      " 3   emp_length_num      18371 non-null  int64  \n",
      " 4   home_ownership      18371 non-null  object \n",
      " 5   dti                 18371 non-null  float64\n",
      " 6   purpose             18371 non-null  object \n",
      " 7   term                18371 non-null  object \n",
      " 8   last_delinq_none    18371 non-null  int64  \n",
      " 9   revol_util          18371 non-null  float64\n",
      " 10  total_rec_late_fee  18371 non-null  float64\n",
      " 11  od_ratio            18371 non-null  float64\n",
      " 12  bad_loan            18371 non-null  int64  \n",
      "dtypes: float64(5), int64(4), object(4)\n",
      "memory usage: 2.0+ MB\n"
     ]
    }
   ],
   "source": [
    "# Seeing information about data.\n",
    "df.info()"
   ]
  },
  {
   "cell_type": "code",
   "execution_count": 46,
   "id": "2be825d2",
   "metadata": {},
   "outputs": [
    {
     "data": {
      "text/plain": [
       "B    5540\n",
       "C    5130\n",
       "D    3239\n",
       "A    1976\n",
       "E    1525\n",
       "F     806\n",
       "G     155\n",
       "Name: grade, dtype: int64"
      ]
     },
     "execution_count": 46,
     "metadata": {},
     "output_type": "execute_result"
    }
   ],
   "source": [
    "# Seeing the unique values in the grade.\n",
    "df['grade'].value_counts()"
   ]
  },
  {
   "cell_type": "code",
   "execution_count": 47,
   "id": "bc1ead2c",
   "metadata": {},
   "outputs": [],
   "source": [
    "# Define a mapping dictionary to combine the clusters\n",
    "cluster_mapping = {\"E\":\"E\", \"F\":\"E\" ,\"G\":\"E\"}\n",
    "\n",
    "# Update the \"grade\" column with the new cluster labels\n",
    "df['grade'] = df['grade'].replace(cluster_mapping)"
   ]
  },
  {
   "cell_type": "code",
   "execution_count": 48,
   "id": "e2ba3743",
   "metadata": {},
   "outputs": [
    {
     "data": {
      "text/plain": [
       "B    5540\n",
       "C    5130\n",
       "D    3239\n",
       "E    2486\n",
       "A    1976\n",
       "Name: grade, dtype: int64"
      ]
     },
     "execution_count": 48,
     "metadata": {},
     "output_type": "execute_result"
    }
   ],
   "source": [
    "df['grade'].value_counts()"
   ]
  },
  {
   "cell_type": "code",
   "execution_count": 49,
   "id": "c28ae171",
   "metadata": {},
   "outputs": [
    {
     "data": {
      "text/plain": [
       "MORTGAGE    9770\n",
       "RENT        7002\n",
       "OWN         1599\n",
       "Name: home_ownership, dtype: int64"
      ]
     },
     "execution_count": 49,
     "metadata": {},
     "output_type": "execute_result"
    }
   ],
   "source": [
    "# Seeing the unique values in the home_ownership.\n",
    "df['home_ownership'].value_counts()"
   ]
  },
  {
   "cell_type": "code",
   "execution_count": 50,
   "id": "ec6e3673",
   "metadata": {},
   "outputs": [
    {
     "data": {
      "text/plain": [
       "debt_consolidation    11304\n",
       "credit_card            3818\n",
       "home_improvement       1007\n",
       "other                   942\n",
       "major_purchase          351\n",
       "small_business          246\n",
       "medical                 160\n",
       "car                     155\n",
       "moving                  115\n",
       "vacation                 99\n",
       "house                    93\n",
       "wedding                  81\n",
       "Name: purpose, dtype: int64"
      ]
     },
     "execution_count": 50,
     "metadata": {},
     "output_type": "execute_result"
    }
   ],
   "source": [
    "#Seeing the unique values in the purpose.\n",
    "df['purpose'].value_counts()"
   ]
  },
  {
   "cell_type": "markdown",
   "id": "bed3f64d",
   "metadata": {},
   "source": [
    "We currently have data divided into 12 distinct groups in the \"purpose\". To enhance clarity and streamline analysis, we have consolidated these groups into 6 broader categories by merging those with similar characteristics. This consolidation maintains the essence of the original classification while simplifying the representation for more effective interpretation."
   ]
  },
  {
   "cell_type": "code",
   "execution_count": 51,
   "id": "c3c0f480",
   "metadata": {},
   "outputs": [],
   "source": [
    "# Define a mapping dictionary to combine the clusters\n",
    "cluster_mapping = {\n",
    "    \"wedding\": \"entertainment\",\n",
    "    \"vacation\": \"entertainment\",\n",
    "    \"moving\": \"entertainment\",\n",
    "    \"car\": \"entertainment\",\n",
    "    \"major_purchase\": \"projects\",\n",
    "    \"small_business\": \"projects\",\n",
    "    \"house\": \"projects\",\n",
    "    \"medical\": \"projects\"\n",
    "}\n",
    "\n",
    "# Update the \"purpose\" column with the new cluster labels using map\n",
    "df['purpose'] = df['purpose'].replace(cluster_mapping)"
   ]
  },
  {
   "cell_type": "code",
   "execution_count": 52,
   "id": "f8501e77",
   "metadata": {},
   "outputs": [
    {
     "data": {
      "text/plain": [
       "debt_consolidation    11304\n",
       "credit_card            3818\n",
       "home_improvement       1007\n",
       "other                   942\n",
       "projects                850\n",
       "entertainment           450\n",
       "Name: purpose, dtype: int64"
      ]
     },
     "execution_count": 52,
     "metadata": {},
     "output_type": "execute_result"
    }
   ],
   "source": [
    "df['purpose'].value_counts()"
   ]
  },
  {
   "cell_type": "code",
   "execution_count": 53,
   "id": "fa7a7010",
   "metadata": {},
   "outputs": [
    {
     "data": {
      "text/plain": [
       " 36 months    13725\n",
       " 60 months     4617\n",
       " 36 Months       29\n",
       "Name: term, dtype: int64"
      ]
     },
     "execution_count": 53,
     "metadata": {},
     "output_type": "execute_result"
    }
   ],
   "source": [
    "df['term'].value_counts()"
   ]
  },
  {
   "cell_type": "code",
   "execution_count": 54,
   "id": "822db771",
   "metadata": {},
   "outputs": [],
   "source": [
    "# Convert the \"term\" values to lowercase\n",
    "df['term'] = df['term'].str.lower()\n",
    "\n",
    "# Define a mapping dictionary to combine the values\n",
    "term_mapping = {\n",
    "    \"36 months\": \"36 months\",\n",
    "    \"60 months\": \"60 months\"\n",
    "}\n",
    "\n",
    "# Update the \"term\" column with the new combined values using map\n",
    "df['term'] = df['term'].replace(term_mapping)"
   ]
  },
  {
   "cell_type": "code",
   "execution_count": 55,
   "id": "c1657e83",
   "metadata": {},
   "outputs": [
    {
     "data": {
      "text/plain": [
       " 36 months    13754\n",
       " 60 months     4617\n",
       "Name: term, dtype: int64"
      ]
     },
     "execution_count": 55,
     "metadata": {},
     "output_type": "execute_result"
    }
   ],
   "source": [
    "df['term'].value_counts()"
   ]
  },
  {
   "cell_type": "markdown",
   "id": "babfa3ee",
   "metadata": {},
   "source": [
    "# Data Visualization"
   ]
  },
  {
   "cell_type": "code",
   "execution_count": 56,
   "id": "755214ee",
   "metadata": {},
   "outputs": [
    {
     "data": {
      "text/html": [
       "<div>\n",
       "<style scoped>\n",
       "    .dataframe tbody tr th:only-of-type {\n",
       "        vertical-align: middle;\n",
       "    }\n",
       "\n",
       "    .dataframe tbody tr th {\n",
       "        vertical-align: top;\n",
       "    }\n",
       "\n",
       "    .dataframe thead th {\n",
       "        text-align: right;\n",
       "    }\n",
       "</style>\n",
       "<table border=\"1\" class=\"dataframe\">\n",
       "  <thead>\n",
       "    <tr style=\"text-align: right;\">\n",
       "      <th></th>\n",
       "      <th>grade</th>\n",
       "      <th>short_emp</th>\n",
       "      <th>home_ownership</th>\n",
       "      <th>purpose</th>\n",
       "      <th>term</th>\n",
       "      <th>last_delinq_none</th>\n",
       "      <th>bad_loan</th>\n",
       "    </tr>\n",
       "  </thead>\n",
       "  <tbody>\n",
       "    <tr>\n",
       "      <th>count</th>\n",
       "      <td>18371</td>\n",
       "      <td>18371</td>\n",
       "      <td>18371</td>\n",
       "      <td>18371</td>\n",
       "      <td>18371</td>\n",
       "      <td>18371</td>\n",
       "      <td>18371</td>\n",
       "    </tr>\n",
       "    <tr>\n",
       "      <th>unique</th>\n",
       "      <td>5</td>\n",
       "      <td>2</td>\n",
       "      <td>3</td>\n",
       "      <td>6</td>\n",
       "      <td>2</td>\n",
       "      <td>2</td>\n",
       "      <td>2</td>\n",
       "    </tr>\n",
       "    <tr>\n",
       "      <th>top</th>\n",
       "      <td>B</td>\n",
       "      <td>0</td>\n",
       "      <td>MORTGAGE</td>\n",
       "      <td>debt_consolidation</td>\n",
       "      <td>36 months</td>\n",
       "      <td>1</td>\n",
       "      <td>0</td>\n",
       "    </tr>\n",
       "    <tr>\n",
       "      <th>freq</th>\n",
       "      <td>5540</td>\n",
       "      <td>16308</td>\n",
       "      <td>9770</td>\n",
       "      <td>11304</td>\n",
       "      <td>13754</td>\n",
       "      <td>10048</td>\n",
       "      <td>14688</td>\n",
       "    </tr>\n",
       "  </tbody>\n",
       "</table>\n",
       "</div>"
      ],
      "text/plain": [
       "        grade  short_emp home_ownership             purpose        term  \\\n",
       "count   18371      18371          18371               18371       18371   \n",
       "unique      5          2              3                   6           2   \n",
       "top         B          0       MORTGAGE  debt_consolidation   36 months   \n",
       "freq     5540      16308           9770               11304       13754   \n",
       "\n",
       "        last_delinq_none  bad_loan  \n",
       "count              18371     18371  \n",
       "unique                 2         2  \n",
       "top                    1         0  \n",
       "freq               10048     14688  "
      ]
     },
     "execution_count": 56,
     "metadata": {},
     "output_type": "execute_result"
    }
   ],
   "source": [
    "# Categorical columns.\n",
    "categorical_features = df[[\"grade\", \"short_emp\", \"home_ownership\", \"purpose\", \"term\", \"last_delinq_none\", \"bad_loan\"]]\n",
    "\n",
    "# Numerical columns.\n",
    "numerical_features = df[[\"annual_inc\", \"emp_length_num\", \"dti\", \"total_rec_late_fee\", \"revol_util\", \"od_ratio\"]]\n",
    "# calculate descriptive statistics for categorical values.\n",
    "categorical_features.astype('object').describe()"
   ]
  },
  {
   "cell_type": "code",
   "execution_count": 57,
   "id": "b5671500",
   "metadata": {},
   "outputs": [
    {
     "data": {
      "image/png": "[encoded data removed]",
      "text/plain": [
       "<Figure size 432x288 with 1 Axes>"
      ]
     },
     "metadata": {
      "needs_background": "light"
     },
     "output_type": "display_data"
    }
   ],
   "source": [
    "# Visualize the distribution of the \"bad_loan\" with \"grade\". \n",
    "sns.countplot(data=categorical_features, x=\"grade\", hue=\"bad_loan\")\n",
    "plt.xlabel(\"Grade\")\n",
    "plt.ylabel(\"Count\")\n",
    "plt.title(\"Count Plot of Grade with Bad Loan\")\n",
    "plt.legend(title=\"Bad Loan\", labels=[\"No\", \"Yes\"])\n",
    "plt.show()\n"
   ]
  },
  {
   "cell_type": "markdown",
   "id": "3acba848",
   "metadata": {},
   "source": [
    "The data illustrates a discernible trend where higher loan grades are consistently associated with lower instances of loan default. This trend is indicative of a strong negative correlation between loan grade and the likelihood of loan repayment failure."
   ]
  },
  {
   "cell_type": "code",
   "execution_count": 58,
   "id": "62f57c16",
   "metadata": {},
   "outputs": [
    {
     "data": {
      "image/png": "[encoded data removed]",
      "text/plain": [
       "<Figure size 432x288 with 1 Axes>"
      ]
     },
     "metadata": {},
     "output_type": "display_data"
    },
    {
     "data": {
      "image/png": "[encoded data removed]",
      "text/plain": [
       "<Figure size 432x288 with 1 Axes>"
      ]
     },
     "metadata": {},
     "output_type": "display_data"
    },
    {
     "data": {
      "image/png": "[encoded data removed]",
      "text/plain": [
       "<Figure size 432x288 with 1 Axes>"
      ]
     },
     "metadata": {},
     "output_type": "display_data"
    },
    {
     "data": {
      "image/png": "[encoded data removed]",
      "text/plain": [
       "<Figure size 432x288 with 1 Axes>"
      ]
     },
     "metadata": {},
     "output_type": "display_data"
    },
    {
     "data": {
      "image/png": "[encoded data removed]",
      "text/plain": [
       "<Figure size 432x288 with 1 Axes>"
      ]
     },
     "metadata": {},
     "output_type": "display_data"
    },
    {
     "data": {
      "image/png": "[encoded data removed]",
      "text/plain": [
       "<Figure size 432x288 with 1 Axes>"
      ]
     },
     "metadata": {},
     "output_type": "display_data"
    },
    {
     "data": {
      "image/png": "[encoded data removed]",
      "text/plain": [
       "<Figure size 432x288 with 1 Axes>"
      ]
     },
     "metadata": {},
     "output_type": "display_data"
    }
   ],
   "source": [
    "# The percentage of each element of the data\n",
    "for feature in categorical_features:\n",
    "    categorical_features[feature].value_counts().plot(kind = 'pie', autopct = '%1.1f%%')\n",
    "    plt.show()"
   ]
  },
  {
   "cell_type": "markdown",
   "id": "f336bab5",
   "metadata": {},
   "source": [
    "Evidently depicted in the visualization, there exists a noticeable imbalance within the variables \"short_emp,\" \"term,\" and \"bad_loan.\" As a countermeasure, a data resampling strategy will be implemented to rectify this imbalance. It's important to underscore that the distribution across the remaining dataset remains equitable and unaffected by this resampling process, thus preserving the integrity of the broader data structure."
   ]
  },
  {
   "cell_type": "code",
   "execution_count": 59,
   "id": "a802f23a",
   "metadata": {},
   "outputs": [
    {
     "data": {
      "text/html": [
       "<div>\n",
       "<style scoped>\n",
       "    .dataframe tbody tr th:only-of-type {\n",
       "        vertical-align: middle;\n",
       "    }\n",
       "\n",
       "    .dataframe tbody tr th {\n",
       "        vertical-align: top;\n",
       "    }\n",
       "\n",
       "    .dataframe thead th {\n",
       "        text-align: right;\n",
       "    }\n",
       "</style>\n",
       "<table border=\"1\" class=\"dataframe\">\n",
       "  <thead>\n",
       "    <tr style=\"text-align: right;\">\n",
       "      <th></th>\n",
       "      <th>annual_inc</th>\n",
       "      <th>emp_length_num</th>\n",
       "      <th>dti</th>\n",
       "      <th>total_rec_late_fee</th>\n",
       "      <th>revol_util</th>\n",
       "      <th>od_ratio</th>\n",
       "    </tr>\n",
       "  </thead>\n",
       "  <tbody>\n",
       "    <tr>\n",
       "      <th>count</th>\n",
       "      <td>18371.000000</td>\n",
       "      <td>18371.000000</td>\n",
       "      <td>18371.000000</td>\n",
       "      <td>18371.000000</td>\n",
       "      <td>18371.000000</td>\n",
       "      <td>18371.000000</td>\n",
       "    </tr>\n",
       "    <tr>\n",
       "      <th>mean</th>\n",
       "      <td>73421.273257</td>\n",
       "      <td>6.827609</td>\n",
       "      <td>16.590894</td>\n",
       "      <td>0.293404</td>\n",
       "      <td>56.001801</td>\n",
       "      <td>0.504941</td>\n",
       "    </tr>\n",
       "    <tr>\n",
       "      <th>std</th>\n",
       "      <td>45612.958798</td>\n",
       "      <td>3.769322</td>\n",
       "      <td>7.582902</td>\n",
       "      <td>3.140913</td>\n",
       "      <td>43.411698</td>\n",
       "      <td>0.287800</td>\n",
       "    </tr>\n",
       "    <tr>\n",
       "      <th>min</th>\n",
       "      <td>8412.000000</td>\n",
       "      <td>0.000000</td>\n",
       "      <td>0.000000</td>\n",
       "      <td>0.000000</td>\n",
       "      <td>0.000000</td>\n",
       "      <td>0.000077</td>\n",
       "    </tr>\n",
       "    <tr>\n",
       "      <th>25%</th>\n",
       "      <td>47000.000000</td>\n",
       "      <td>3.000000</td>\n",
       "      <td>10.850000</td>\n",
       "      <td>0.000000</td>\n",
       "      <td>38.750000</td>\n",
       "      <td>0.257495</td>\n",
       "    </tr>\n",
       "    <tr>\n",
       "      <th>50%</th>\n",
       "      <td>65000.000000</td>\n",
       "      <td>7.000000</td>\n",
       "      <td>16.220000</td>\n",
       "      <td>0.000000</td>\n",
       "      <td>57.100000</td>\n",
       "      <td>0.507883</td>\n",
       "    </tr>\n",
       "    <tr>\n",
       "      <th>75%</th>\n",
       "      <td>88000.000000</td>\n",
       "      <td>11.000000</td>\n",
       "      <td>22.060000</td>\n",
       "      <td>0.000000</td>\n",
       "      <td>74.000000</td>\n",
       "      <td>0.753875</td>\n",
       "    </tr>\n",
       "    <tr>\n",
       "      <th>max</th>\n",
       "      <td>1000000.000000</td>\n",
       "      <td>11.000000</td>\n",
       "      <td>34.990000</td>\n",
       "      <td>96.466600</td>\n",
       "      <td>5010.000000</td>\n",
       "      <td>0.999894</td>\n",
       "    </tr>\n",
       "  </tbody>\n",
       "</table>\n",
       "</div>"
      ],
      "text/plain": [
       "           annual_inc  emp_length_num           dti  total_rec_late_fee  \\\n",
       "count    18371.000000    18371.000000  18371.000000        18371.000000   \n",
       "mean     73421.273257        6.827609     16.590894            0.293404   \n",
       "std      45612.958798        3.769322      7.582902            3.140913   \n",
       "min       8412.000000        0.000000      0.000000            0.000000   \n",
       "25%      47000.000000        3.000000     10.850000            0.000000   \n",
       "50%      65000.000000        7.000000     16.220000            0.000000   \n",
       "75%      88000.000000       11.000000     22.060000            0.000000   \n",
       "max    1000000.000000       11.000000     34.990000           96.466600   \n",
       "\n",
       "         revol_util      od_ratio  \n",
       "count  18371.000000  18371.000000  \n",
       "mean      56.001801      0.504941  \n",
       "std       43.411698      0.287800  \n",
       "min        0.000000      0.000077  \n",
       "25%       38.750000      0.257495  \n",
       "50%       57.100000      0.507883  \n",
       "75%       74.000000      0.753875  \n",
       "max     5010.000000      0.999894  "
      ]
     },
     "execution_count": 59,
     "metadata": {},
     "output_type": "execute_result"
    }
   ],
   "source": [
    "# calculate descriptive statistics for numerical values.\n",
    "numerical_features.describe()"
   ]
  },
  {
   "cell_type": "code",
   "execution_count": 60,
   "id": "2718021e",
   "metadata": {},
   "outputs": [
    {
     "data": {
      "image/png": "[encoded data removed]",
      "text/plain": [
       "<Figure size 864x576 with 6 Axes>"
      ]
     },
     "metadata": {
      "needs_background": "light"
     },
     "output_type": "display_data"
    }
   ],
   "source": [
    "# Histograms for numerical features.\n",
    "numerical_features.hist(bins=20, figsize=(12, 8))\n",
    "plt.suptitle(\"Histograms of Numerical Features\", y=1.02)\n",
    "plt.show()"
   ]
  }
 ],
 "metadata": {
  "kernelspec": {
   "display_name": "Python 3 (ipykernel)",
   "language": "python",
   "name": "python3"
  },
  "language_info": {
   "codemirror_mode": {
    "name": "ipython",
    "version": 3
   },
   "file_extension": ".py",
   "mimetype": "text/x-python",
   "name": "python",
   "nbconvert_exporter": "python",
   "pygments_lexer": "ipython3",
   "version": "3.9.12"
  }
 },
 "nbformat": 4,
 "nbformat_minor": 5
}
